{
 "cells": [
  {
   "cell_type": "markdown",
   "id": "eb2b95f7-fce2-458e-85ab-979903244f93",
   "metadata": {},
   "source": [
    "### To take the clean data (Test) and separate it by cities."
   ]
  },
  {
   "cell_type": "code",
   "execution_count": 1,
   "id": "0c709df7-a824-428d-85e1-a2ca1201d0b8",
   "metadata": {},
   "outputs": [],
   "source": [
    "import pandas as pd\n",
    "import numpy as np\n",
    "import seaborn as sns\n",
    "import matplotlib.pyplot as plt\n",
    "%matplotlib inline"
   ]
  },
  {
   "cell_type": "code",
   "execution_count": 2,
   "id": "af9b9209-a3f7-4172-96c0-d7d96713363a",
   "metadata": {},
   "outputs": [],
   "source": [
    "Mental_Health_Test = pd.read_csv('Datasheet/MH.Test.wCity.Clean.2b.csv')"
   ]
  },
  {
   "cell_type": "code",
   "execution_count": 3,
   "id": "b84d2871-05ec-4fe5-9f2b-d238c6b847c6",
   "metadata": {},
   "outputs": [
    {
     "name": "stdout",
     "output_type": "stream",
     "text": [
      "<class 'pandas.core.frame.DataFrame'>\n",
      "RangeIndex: 93800 entries, 0 to 93799\n",
      "Data columns (total 13 columns):\n",
      " #   Column                                 Non-Null Count  Dtype  \n",
      "---  ------                                 --------------  -----  \n",
      " 0   id                                     93800 non-null  int64  \n",
      " 1   Gender                                 93800 non-null  int64  \n",
      " 2   Age                                    93800 non-null  float64\n",
      " 3   City                                   93800 non-null  object \n",
      " 4   Sleep Duration                         93800 non-null  float64\n",
      " 5   Dietary Habits                         93800 non-null  float64\n",
      " 6   Have you ever had suicidal thoughts ?  93800 non-null  int64  \n",
      " 7   Work/Study Hours                       93800 non-null  float64\n",
      " 8   Financial Stress                       93800 non-null  float64\n",
      " 9   Family History of Mental Illness       93800 non-null  int64  \n",
      " 10  Work                                   93800 non-null  object \n",
      " 11  Satisfaction                           93800 non-null  float64\n",
      " 12  Pressure                               93800 non-null  float64\n",
      "dtypes: float64(7), int64(4), object(2)\n",
      "memory usage: 9.3+ MB\n"
     ]
    }
   ],
   "source": [
    "Mental_Health_Test.info()"
   ]
  },
  {
   "cell_type": "code",
   "execution_count": 4,
   "id": "3ab0c9d4-401e-412c-be0a-0c02ea539669",
   "metadata": {},
   "outputs": [
    {
     "data": {
      "text/plain": [
       "array(['Working Professional', 'Student'], dtype=object)"
      ]
     },
     "execution_count": 4,
     "metadata": {},
     "output_type": "execute_result"
    }
   ],
   "source": [
    "Mental_Health_Test['Work'].unique()"
   ]
  },
  {
   "cell_type": "code",
   "execution_count": 6,
   "id": "68351a58-7f94-4dc5-95f1-efce2fd032a9",
   "metadata": {},
   "outputs": [],
   "source": [
    "for worker in Mental_Health_Test['Work'].unique():\n",
    "    worker_df = Mental_Health_Test[Mental_Health_Test['Work'] == worker]\n",
    "    worker_df.to_csv(f'Datasheet/MH.Test.{worker}.Clean.2b.csv', index=False)"
   ]
  },
  {
   "cell_type": "code",
   "execution_count": null,
   "id": "cca5a0c8-95d6-424a-8e86-926d268e2452",
   "metadata": {},
   "outputs": [],
   "source": []
  }
 ],
 "metadata": {
  "kernelspec": {
   "display_name": "Python 3 (ipykernel)",
   "language": "python",
   "name": "python3"
  },
  "language_info": {
   "codemirror_mode": {
    "name": "ipython",
    "version": 3
   },
   "file_extension": ".py",
   "mimetype": "text/x-python",
   "name": "python",
   "nbconvert_exporter": "python",
   "pygments_lexer": "ipython3",
   "version": "3.13.1"
  }
 },
 "nbformat": 4,
 "nbformat_minor": 5
}
