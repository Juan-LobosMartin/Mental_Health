{
 "cells": [
  {
   "cell_type": "markdown",
   "id": "eb2b95f7-fce2-458e-85ab-979903244f93",
   "metadata": {},
   "source": [
    "### To take the clean data (Test) and separate it by cities."
   ]
  },
  {
   "cell_type": "code",
   "execution_count": 1,
   "id": "0c709df7-a824-428d-85e1-a2ca1201d0b8",
   "metadata": {},
   "outputs": [],
   "source": [
    "import pandas as pd\n",
    "import numpy as np\n",
    "import seaborn as sns\n",
    "import matplotlib.pyplot as plt\n",
    "%matplotlib inline"
   ]
  },
  {
   "cell_type": "code",
   "execution_count": 5,
   "id": "af9b9209-a3f7-4172-96c0-d7d96713363a",
   "metadata": {},
   "outputs": [],
   "source": [
    "Mental_Health_Test = pd.read_csv('Datasheet/MH.Test.wCity.Clean.2.csv')"
   ]
  },
  {
   "cell_type": "code",
   "execution_count": 7,
   "id": "b84d2871-05ec-4fe5-9f2b-d238c6b847c6",
   "metadata": {},
   "outputs": [
    {
     "name": "stdout",
     "output_type": "stream",
     "text": [
      "<class 'pandas.core.frame.DataFrame'>\n",
      "RangeIndex: 93800 entries, 0 to 93799\n",
      "Data columns (total 13 columns):\n",
      " #   Column                                 Non-Null Count  Dtype  \n",
      "---  ------                                 --------------  -----  \n",
      " 0   id                                     93800 non-null  int64  \n",
      " 1   Gender                                 93800 non-null  int64  \n",
      " 2   Age                                    93800 non-null  float64\n",
      " 3   City                                   93800 non-null  object \n",
      " 4   Sleep Duration                         93800 non-null  float64\n",
      " 5   Dietary Habits                         93800 non-null  float64\n",
      " 6   Have you ever had suicidal thoughts ?  93800 non-null  int64  \n",
      " 7   Work/Study Hours                       93800 non-null  float64\n",
      " 8   Financial Stress                       93800 non-null  float64\n",
      " 9   Family History of Mental Illness       93800 non-null  int64  \n",
      " 10  Work                                   93800 non-null  int64  \n",
      " 11  Satisfaction                           93800 non-null  float64\n",
      " 12  Pressure                               93800 non-null  float64\n",
      "dtypes: float64(7), int64(5), object(1)\n",
      "memory usage: 9.3+ MB\n"
     ]
    }
   ],
   "source": [
    "Mental_Health_Test.info()"
   ]
  },
  {
   "cell_type": "code",
   "execution_count": 9,
   "id": "3ab0c9d4-401e-412c-be0a-0c02ea539669",
   "metadata": {},
   "outputs": [
    {
     "data": {
      "text/plain": [
       "City\n",
       "Kalyan               4387\n",
       "Vasai-Virar          3897\n",
       "Patna                3888\n",
       "Kolkata              3726\n",
       "Ahmedabad            3677\n",
       "                     ... \n",
       "Mhopal                  1\n",
       "Less than 5 hours       1\n",
       "Pratyush                1\n",
       "Malyan                  1\n",
       "No.12                   1\n",
       "Name: count, Length: 68, dtype: int64"
      ]
     },
     "execution_count": 9,
     "metadata": {},
     "output_type": "execute_result"
    }
   ],
   "source": [
    "counts = Mental_Health_Test['City'].value_counts()\n",
    "counts"
   ]
  },
  {
   "cell_type": "code",
   "execution_count": 11,
   "id": "df51ced2-604f-4dd1-9c8a-1f3aa6b0b387",
   "metadata": {},
   "outputs": [],
   "source": [
    "aux_1T = Mental_Health_Test[Mental_Health_Test['City'].map(counts)>1000]"
   ]
  },
  {
   "cell_type": "code",
   "execution_count": 13,
   "id": "a1d58699-3f18-4097-a75d-0527f2b41d19",
   "metadata": {},
   "outputs": [
    {
     "data": {
      "text/plain": [
       "array(['Visakhapatnam', 'Kolkata', 'Jaipur', 'Rajkot', 'Kalyan', 'Mumbai',\n",
       "       'Surat', 'Srinagar', 'Delhi', 'Lucknow', 'Thane', 'Meerut',\n",
       "       'Nagpur', 'Ghaziabad', 'Chennai', 'Varanasi', 'Indore', 'Pune',\n",
       "       'Hyderabad', 'Kanpur', 'Nashik', 'Bhopal', 'Faridabad',\n",
       "       'Bangalore', 'Vasai-Virar', 'Ludhiana', 'Patna', 'Vadodara',\n",
       "       'Ahmedabad', 'Agra'], dtype=object)"
      ]
     },
     "execution_count": 13,
     "metadata": {},
     "output_type": "execute_result"
    }
   ],
   "source": [
    "city_valT = aux_1T['City'].unique()\n",
    "city_valT # wichcityes have more than 1000 answers"
   ]
  },
  {
   "cell_type": "code",
   "execution_count": 15,
   "id": "80c0baab-fe85-4ea3-b556-20076d6979a2",
   "metadata": {},
   "outputs": [
    {
     "data": {
      "text/plain": [
       "array(['Visakhapatnam', 'Kolkata', 'Jaipur', 'Rajkot', 'Kalyan', 'Mumbai',\n",
       "       'Surat', 'Srinagar', 'Delhi', 'Lucknow', 'Thane', 'Meerut',\n",
       "       'Nagpur', 'Ghaziabad', 'Chennai', 'Varanasi', 'Indore', 'Pune',\n",
       "       'Hyderabad', 'Kanpur', 'Nashik', 'Bhopal', 'Faridabad',\n",
       "       'Bangalore', 'Vasai-Virar', 'Ludhiana', 'Patna', 'Vadodara',\n",
       "       'Ahmedabad', 'Agra', 'Malyan', 'Pratyush', 'Vidya',\n",
       "       'Less than 5 hours', 'Aditi', 'Keshav', 'Nalini', 'Mhopal', 'Avni',\n",
       "       'Ira', 'Vaishnavi', 'Bhavna', 'Lawyer', 'Thani', 'Hrithik', 'City',\n",
       "       'Unaly', 'Is Kanpur', 'Golkata', 'Less Delhi', 'Sara', 'Saurav',\n",
       "       'Vikram', 'Parth', 'Siddhesh', 'Vaikot', 'Leela', 'Chemist',\n",
       "       'San Vasai-Virar', 'No', 'More Delhi', 'Saanvi', 'Pratham',\n",
       "       'Vidhi', 'Abhinav', 'Rolkata', 'Ghopal', 'No.12'], dtype=object)"
      ]
     },
     "execution_count": 15,
     "metadata": {},
     "output_type": "execute_result"
    }
   ],
   "source": [
    "city_allT = Mental_Health_Test['City'].unique()\n",
    "city_allT"
   ]
  },
  {
   "cell_type": "code",
   "execution_count": 17,
   "id": "3c686a8f-e65f-4cea-8a38-6b29668d1a74",
   "metadata": {},
   "outputs": [
    {
     "data": {
      "text/plain": [
       "array(['Abhinav', 'Aditi', 'Avni', 'Bhavna', 'Chemist', 'City', 'Ghopal',\n",
       "       'Golkata', 'Hrithik', 'Ira', 'Is Kanpur', 'Keshav', 'Lawyer',\n",
       "       'Leela', 'Less Delhi', 'Less than 5 hours', 'Malyan', 'Mhopal',\n",
       "       'More Delhi', 'Nalini', 'No', 'No.12', 'Parth', 'Pratham',\n",
       "       'Pratyush', 'Rolkata', 'Saanvi', 'San Vasai-Virar', 'Sara',\n",
       "       'Saurav', 'Siddhesh', 'Thani', 'Unaly', 'Vaikot', 'Vaishnavi',\n",
       "       'Vidhi', 'Vidya', 'Vikram'], dtype=object)"
      ]
     },
     "execution_count": 17,
     "metadata": {},
     "output_type": "execute_result"
    }
   ],
   "source": [
    "# 30 cities have more than 1000 answers, and the others have less than ten. \n",
    "change_missT = np.setdiff1d(city_allT, city_valT) #elements in city_all that are not in city_val\n",
    "change_missT"
   ]
  },
  {
   "cell_type": "code",
   "execution_count": 19,
   "id": "bbb4e329-a7db-4812-af53-9a5ba1c4f118",
   "metadata": {},
   "outputs": [],
   "source": [
    "#I will change all those 'City names' to Lost_city\n",
    "Mental_Health_Test['City'] = Mental_Health_Test['City'].replace(to_replace=change_missT, value='Lost_city')"
   ]
  },
  {
   "cell_type": "code",
   "execution_count": 21,
   "id": "4c87c55e-5521-40fe-88e8-6d04d21fe3c0",
   "metadata": {},
   "outputs": [
    {
     "data": {
      "text/plain": [
       "City\n",
       "Kalyan           4387\n",
       "Vasai-Virar      3897\n",
       "Patna            3888\n",
       "Kolkata          3726\n",
       "Ahmedabad        3677\n",
       "Meerut           3661\n",
       "Srinagar         3547\n",
       "Ludhiana         3545\n",
       "Rajkot           3450\n",
       "Visakhapatnam    3416\n",
       "Pune             3318\n",
       "Agra             3189\n",
       "Vadodara         3169\n",
       "Mumbai           3129\n",
       "Hyderabad        3123\n",
       "Surat            3090\n",
       "Varanasi         3052\n",
       "Indore           3040\n",
       "Kanpur           2978\n",
       "Jaipur           2874\n",
       "Lucknow          2860\n",
       "Thane            2835\n",
       "Nagpur           2748\n",
       "Bangalore        2707\n",
       "Chennai          2674\n",
       "Delhi            2536\n",
       "Ghaziabad        2486\n",
       "Bhopal           2370\n",
       "Faridabad        2196\n",
       "Nashik           2182\n",
       "Lost_city          50\n",
       "Name: count, dtype: int64"
      ]
     },
     "execution_count": 21,
     "metadata": {},
     "output_type": "execute_result"
    }
   ],
   "source": [
    "Mental_Health_Test['City'].value_counts() # People in Lost_city"
   ]
  },
  {
   "cell_type": "markdown",
   "id": "cd17882c-0c9b-4539-959f-7aab81244cb9",
   "metadata": {},
   "source": [
    "Lost_City only 50"
   ]
  },
  {
   "cell_type": "code",
   "execution_count": 23,
   "id": "daf0b307-fcd3-4276-bde6-11c0fa2c7933",
   "metadata": {},
   "outputs": [
    {
     "data": {
      "text/plain": [
       "['Visakhapatnam',\n",
       " 'Kolkata',\n",
       " 'Jaipur',\n",
       " 'Rajkot',\n",
       " 'Kalyan',\n",
       " 'Mumbai',\n",
       " 'Surat',\n",
       " 'Srinagar',\n",
       " 'Delhi',\n",
       " 'Lucknow',\n",
       " 'Thane',\n",
       " 'Meerut',\n",
       " 'Nagpur',\n",
       " 'Ghaziabad',\n",
       " 'Chennai',\n",
       " 'Varanasi',\n",
       " 'Indore',\n",
       " 'Pune',\n",
       " 'Hyderabad',\n",
       " 'Kanpur',\n",
       " 'Nashik',\n",
       " 'Bhopal',\n",
       " 'Faridabad',\n",
       " 'Bangalore',\n",
       " 'Vasai-Virar',\n",
       " 'Ludhiana',\n",
       " 'Patna',\n",
       " 'Vadodara',\n",
       " 'Ahmedabad',\n",
       " 'Agra',\n",
       " 'Lost_city']"
      ]
     },
     "execution_count": 23,
     "metadata": {},
     "output_type": "execute_result"
    }
   ],
   "source": [
    "lista_ciudadesT = Mental_Health_Test['City'].unique().tolist()\n",
    "lista_ciudadesT"
   ]
  },
  {
   "cell_type": "code",
   "execution_count": 25,
   "id": "68351a58-7f94-4dc5-95f1-efce2fd032a9",
   "metadata": {},
   "outputs": [],
   "source": [
    "for city in Mental_Health_Test['City'].unique():\n",
    "    city_df = Mental_Health_Test[Mental_Health_Test['City'] == city]\n",
    "    city_df.to_csv(f'Datasheet/MH.{city}.Test.Clean.2.csv', index=False)"
   ]
  }
 ],
 "metadata": {
  "kernelspec": {
   "display_name": "Python 3 (ipykernel)",
   "language": "python",
   "name": "python3"
  },
  "language_info": {
   "codemirror_mode": {
    "name": "ipython",
    "version": 3
   },
   "file_extension": ".py",
   "mimetype": "text/x-python",
   "name": "python",
   "nbconvert_exporter": "python",
   "pygments_lexer": "ipython3",
   "version": "3.13.1"
  }
 },
 "nbformat": 4,
 "nbformat_minor": 5
}
