{
 "cells": [
  {
   "cell_type": "markdown",
   "id": "efafe0e3-25ba-47f9-ae68-9928ec8f3720",
   "metadata": {},
   "source": [
    "# Join the result for all cities (Test) on only one submission. "
   ]
  },
  {
   "cell_type": "code",
   "execution_count": 3,
   "id": "5bd7991a-93ad-4ae2-a32a-2e3c1910c8c2",
   "metadata": {},
   "outputs": [],
   "source": [
    "import pandas as pd\n",
    "import numpy as np\n",
    "import seaborn as sns\n",
    "import matplotlib.pyplot as plt"
   ]
  },
  {
   "cell_type": "code",
   "execution_count": 6,
   "id": "e4f4b3aa-f2af-4e71-a5b8-705c3da1fb69",
   "metadata": {},
   "outputs": [],
   "source": [
    "Cities_MH =['Visakhapatnam',\n",
    " 'Kolkata',\n",
    " 'Jaipur',\n",
    " 'Rajkot',\n",
    " 'Kalyan',\n",
    " 'Mumbai',\n",
    " 'Surat',\n",
    " 'Srinagar',\n",
    " 'Delhi',\n",
    " 'Lucknow',\n",
    " 'Thane',\n",
    " 'Meerut',\n",
    " 'Nagpur',\n",
    " 'Ghaziabad',\n",
    " 'Chennai',\n",
    " 'Varanasi',\n",
    " 'Indore',\n",
    " 'Pune',\n",
    " 'Hyderabad',\n",
    " 'Kanpur',\n",
    " 'Nashik',\n",
    " 'Bhopal',\n",
    " 'Faridabad',\n",
    " 'Bangalore',\n",
    " 'Vasai-Virar',\n",
    " 'Ludhiana',\n",
    " 'Patna',\n",
    " 'Vadodara',\n",
    " 'Ahmedabad',\n",
    " 'Agra',\n",
    " 'Lost_city']"
   ]
  },
  {
   "cell_type": "code",
   "execution_count": 8,
   "id": "45f875f8-eacc-4c5f-b0ea-a71f595ebf07",
   "metadata": {},
   "outputs": [
    {
     "data": {
      "text/plain": [
       "['Visakhapatnam',\n",
       " 'Kolkata',\n",
       " 'Jaipur',\n",
       " 'Rajkot',\n",
       " 'Kalyan',\n",
       " 'Mumbai',\n",
       " 'Surat',\n",
       " 'Srinagar',\n",
       " 'Delhi',\n",
       " 'Lucknow',\n",
       " 'Thane',\n",
       " 'Meerut',\n",
       " 'Nagpur',\n",
       " 'Ghaziabad',\n",
       " 'Chennai',\n",
       " 'Varanasi',\n",
       " 'Indore',\n",
       " 'Pune',\n",
       " 'Hyderabad',\n",
       " 'Kanpur',\n",
       " 'Nashik',\n",
       " 'Bhopal',\n",
       " 'Faridabad',\n",
       " 'Bangalore',\n",
       " 'Vasai-Virar',\n",
       " 'Ludhiana',\n",
       " 'Patna',\n",
       " 'Vadodara',\n",
       " 'Ahmedabad',\n",
       " 'Agra',\n",
       " 'Lost_city']"
      ]
     },
     "execution_count": 8,
     "metadata": {},
     "output_type": "execute_result"
    }
   ],
   "source": [
    "Cities_MH"
   ]
  },
  {
   "cell_type": "code",
   "execution_count": 20,
   "id": "b96e552a-b646-4e37-a643-393eebc5c178",
   "metadata": {},
   "outputs": [],
   "source": [
    "import glob"
   ]
  },
  {
   "cell_type": "code",
   "execution_count": 51,
   "id": "22b989ec-7deb-4ded-ba0b-cf7c27233a99",
   "metadata": {},
   "outputs": [],
   "source": [
    "file_path = 'Datasheet/submission/'\n",
    "all_files = glob.glob(file_path + \"*.csv\")\n",
    "Submission_MH= pd.DataFrame(columns=['id', 'Depression'])\n"
   ]
  },
  {
   "cell_type": "code",
   "execution_count": 53,
   "id": "f7884470-5714-4859-a3e8-b5f2cd0af9dd",
   "metadata": {},
   "outputs": [],
   "source": [
    "for filename in all_files:\n",
    "    df = pd.read_csv(filename)\n",
    "    Submission_MH = pd.concat([Submission_MH,df], axis = 0).reset_index(drop=True)"
   ]
  },
  {
   "cell_type": "code",
   "execution_count": 55,
   "id": "ea019331-e733-4d92-acaa-fc037c723ab2",
   "metadata": {},
   "outputs": [
    {
     "data": {
      "text/html": [
       "<div>\n",
       "<style scoped>\n",
       "    .dataframe tbody tr th:only-of-type {\n",
       "        vertical-align: middle;\n",
       "    }\n",
       "\n",
       "    .dataframe tbody tr th {\n",
       "        vertical-align: top;\n",
       "    }\n",
       "\n",
       "    .dataframe thead th {\n",
       "        text-align: right;\n",
       "    }\n",
       "</style>\n",
       "<table border=\"1\" class=\"dataframe\">\n",
       "  <thead>\n",
       "    <tr style=\"text-align: right;\">\n",
       "      <th></th>\n",
       "      <th>id</th>\n",
       "      <th>Depression</th>\n",
       "    </tr>\n",
       "  </thead>\n",
       "  <tbody>\n",
       "    <tr>\n",
       "      <th>0</th>\n",
       "      <td>140781</td>\n",
       "      <td>0</td>\n",
       "    </tr>\n",
       "    <tr>\n",
       "      <th>1</th>\n",
       "      <td>140802</td>\n",
       "      <td>1</td>\n",
       "    </tr>\n",
       "    <tr>\n",
       "      <th>2</th>\n",
       "      <td>140812</td>\n",
       "      <td>0</td>\n",
       "    </tr>\n",
       "    <tr>\n",
       "      <th>3</th>\n",
       "      <td>140844</td>\n",
       "      <td>0</td>\n",
       "    </tr>\n",
       "    <tr>\n",
       "      <th>4</th>\n",
       "      <td>140850</td>\n",
       "      <td>0</td>\n",
       "    </tr>\n",
       "    <tr>\n",
       "      <th>...</th>\n",
       "      <td>...</td>\n",
       "      <td>...</td>\n",
       "    </tr>\n",
       "    <tr>\n",
       "      <th>93795</th>\n",
       "      <td>234195</td>\n",
       "      <td>0</td>\n",
       "    </tr>\n",
       "    <tr>\n",
       "      <th>93796</th>\n",
       "      <td>234245</td>\n",
       "      <td>0</td>\n",
       "    </tr>\n",
       "    <tr>\n",
       "      <th>93797</th>\n",
       "      <td>234319</td>\n",
       "      <td>0</td>\n",
       "    </tr>\n",
       "    <tr>\n",
       "      <th>93798</th>\n",
       "      <td>234351</td>\n",
       "      <td>0</td>\n",
       "    </tr>\n",
       "    <tr>\n",
       "      <th>93799</th>\n",
       "      <td>234382</td>\n",
       "      <td>0</td>\n",
       "    </tr>\n",
       "  </tbody>\n",
       "</table>\n",
       "<p>93800 rows × 2 columns</p>\n",
       "</div>"
      ],
      "text/plain": [
       "           id Depression\n",
       "0      140781          0\n",
       "1      140802          1\n",
       "2      140812          0\n",
       "3      140844          0\n",
       "4      140850          0\n",
       "...       ...        ...\n",
       "93795  234195          0\n",
       "93796  234245          0\n",
       "93797  234319          0\n",
       "93798  234351          0\n",
       "93799  234382          0\n",
       "\n",
       "[93800 rows x 2 columns]"
      ]
     },
     "execution_count": 55,
     "metadata": {},
     "output_type": "execute_result"
    }
   ],
   "source": [
    "Submission_MH"
   ]
  },
  {
   "cell_type": "code",
   "execution_count": 58,
   "id": "3ecebc12-179f-439a-813b-4129effa5e5b",
   "metadata": {},
   "outputs": [],
   "source": [
    "Submission_MH.to_csv('sample_submission_2.csv', index=False)"
   ]
  },
  {
   "cell_type": "code",
   "execution_count": null,
   "id": "6eac140a-5499-4f5a-8812-16787ddf1efc",
   "metadata": {},
   "outputs": [],
   "source": [
    "# result = pd.concat([df_pred_pro,df_pred_stu], axis = 0).reset_index(drop=True)\n",
    "# df_results = result.sort_values(by='id', ascending=True).reset_index(drop=True)"
   ]
  }
 ],
 "metadata": {
  "kernelspec": {
   "display_name": "Python 3 (ipykernel)",
   "language": "python",
   "name": "python3"
  },
  "language_info": {
   "codemirror_mode": {
    "name": "ipython",
    "version": 3
   },
   "file_extension": ".py",
   "mimetype": "text/x-python",
   "name": "python",
   "nbconvert_exporter": "python",
   "pygments_lexer": "ipython3",
   "version": "3.13.1"
  }
 },
 "nbformat": 4,
 "nbformat_minor": 5
}
