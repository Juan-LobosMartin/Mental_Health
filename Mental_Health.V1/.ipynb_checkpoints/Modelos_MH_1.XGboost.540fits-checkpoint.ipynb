{
 "cells": [
  {
   "cell_type": "markdown",
   "id": "8c3ff2af-01c5-4426-b6dd-ff06a1f08ac7",
   "metadata": {},
   "source": [
    "# Model eXtreme Gradient Boosting\n",
    "\n",
    "- Several columns were dropped.\n",
    "- Weighted model more complex."
   ]
  },
  {
   "cell_type": "code",
   "execution_count": null,
   "id": "b54b71cd-5a89-489f-8eaf-9306f8bf8a4b",
   "metadata": {},
   "outputs": [],
   "source": [
    "import pandas as pd\n",
    "import numpy as np\n",
    "import seaborn as sns\n",
    "import matplotlib.pyplot as plt\n",
    "%matplotlib inline"
   ]
  },
  {
   "cell_type": "code",
   "execution_count": null,
   "id": "d1b93094-708e-46a0-8943-1ecef678ddfb",
   "metadata": {},
   "outputs": [],
   "source": [
    "Mental_1 = pd.read_csv('Datasheet/MH.Clean.1.csv')"
   ]
  },
  {
   "cell_type": "code",
   "execution_count": null,
   "id": "7ab4a15c-178f-4648-bed9-422f1ceceb58",
   "metadata": {},
   "outputs": [],
   "source": [
    "from sklearn.model_selection import train_test_split\n",
    "from sklearn import metrics\n",
    "from sklearn import preprocessing\n",
    "from sklearn.model_selection import GridSearchCV\n",
    "from sklearn.metrics import make_scorer\n",
    "from sklearn.metrics import accuracy_score\n",
    "import sklearn as sk\n",
    "import xgboost as xgb\n",
    "from xgboost import XGBClassifier"
   ]
  },
  {
   "cell_type": "markdown",
   "id": "dd28b7c4-3a25-49d7-aa19-78490c708c2d",
   "metadata": {},
   "source": [
    "### Data for train the model"
   ]
  },
  {
   "cell_type": "code",
   "execution_count": null,
   "id": "825016ad-7991-454a-a4a0-2ca1cca8c5e1",
   "metadata": {},
   "outputs": [],
   "source": [
    "X = Mental_1.drop(columns=['id', 'Depression'],axis=1)\n",
    "y = Mental_1['Depression']"
   ]
  },
  {
   "cell_type": "code",
   "execution_count": null,
   "id": "aa48f1f5-63fc-47fb-a153-b83fcaf88d3e",
   "metadata": {},
   "outputs": [],
   "source": [
    "# define de model\n",
    "model_stu = XGBClassifier()"
   ]
  },
  {
   "cell_type": "code",
   "execution_count": null,
   "id": "72da7f30-ee81-4ec0-8300-510b8cb9052c",
   "metadata": {},
   "outputs": [],
   "source": [
    "# check the param of the model\n",
    "model_stu.get_params()"
   ]
  },
  {
   "cell_type": "code",
   "execution_count": null,
   "id": "3eda7a05-007b-441e-bc18-03dc0b950402",
   "metadata": {},
   "outputs": [],
   "source": [
    "# modification of the param\n",
    "params = {'base_score': [0.5],\n",
    "         'booster': ['gbtree'],\n",
    "         'colsample_bylevel': [1],\n",
    "         'colsample_bynode': [0.6],\n",
    "         'colsample_bytree': [0.7],\n",
    "         'gamma': [0.01],\n",
    "         'learning_rate': [0.05,0.02],\n",
    "         'max_depth':[2,3,4],\n",
    "         'min_child_weight': [1, 2, 3],\n",
    "         'n_estimators': [400,600,800],\n",
    "         'n_jobs': [-1],\n",
    "         'reg_alpha': [0.1],\n",
    "         'reg_lambda': [0.01,0.1],\n",
    "         'scale_pos_weight': [1],\n",
    "         'subsample': [0.9]}"
   ]
  },
  {
   "cell_type": "code",
   "execution_count": null,
   "id": "c5ad9e5f-df09-4cad-90da-872b7295f6ea",
   "metadata": {},
   "outputs": [],
   "source": [
    "scoring2 = [\"roc_auc\"]\n",
    "grid_solver = GridSearchCV(estimator = model_stu,\n",
    "                   param_grid = params,\n",
    "                   scoring = scoring2,\n",
    "                   cv = 5,\n",
    "                   n_jobs= -1,\n",
    "                   refit=\"roc_auc\",\n",
    "                   verbose = 2)"
   ]
  },
  {
   "cell_type": "code",
   "execution_count": null,
   "id": "622c3a0f-96f2-4d4f-b302-6297a735981d",
   "metadata": {
    "scrolled": true
   },
   "outputs": [],
   "source": [
    "# searchin for the best tree.\n",
    "stu_results = grid_solver.fit(X,y)"
   ]
  },
  {
   "cell_type": "code",
   "execution_count": null,
   "id": "4f742be9-91f2-41da-b113-e2f568503349",
   "metadata": {},
   "outputs": [],
   "source": [
    "stu_results.best_estimator_"
   ]
  },
  {
   "cell_type": "code",
   "execution_count": null,
   "id": "3424d66d-a680-4ebd-a032-30c2430ff2fc",
   "metadata": {},
   "outputs": [],
   "source": [
    "dep_resoult = stu_results.best_estimator_"
   ]
  },
  {
   "cell_type": "code",
   "execution_count": null,
   "id": "4b00d979-4c13-421f-9025-17e62c3cada1",
   "metadata": {},
   "outputs": [],
   "source": [
    "y_pred_V1_bin = dep_resoult.predict(X)\n",
    "y_pred_V1_bin"
   ]
  },
  {
   "cell_type": "code",
   "execution_count": null,
   "id": "03086b10-1b6b-478b-ac8a-ffbb5d980c16",
   "metadata": {},
   "outputs": [],
   "source": [
    "from sklearn.metrics import confusion_matrix\n",
    "\n",
    "def confusion(ytest,y_pred):\n",
    "    names=[\"No depresive\",\"Depressive\"]\n",
    "    cm=confusion_matrix(y,y_pred_V1_bin)\n",
    "    f,ax=plt.subplots(figsize=(5,5))\n",
    "    sns.heatmap(cm,annot=True,linewidth=.5,linecolor=\"r\",fmt=\".0f\",ax=ax)\n",
    "    plt.xlabel(\"y_pred\")\n",
    "    plt.ylabel(\"y_true\")\n",
    "    ax.set_xticklabels(names)\n",
    "    ax.set_yticklabels(names)\n",
    "    plt.show()\n",
    "\n",
    "    return"
   ]
  },
  {
   "cell_type": "code",
   "execution_count": null,
   "id": "52f2344f-a17e-4736-ab97-ed2553a4b21e",
   "metadata": {},
   "outputs": [],
   "source": [
    "confusion(y,y_pred_V1_bin)"
   ]
  },
  {
   "cell_type": "code",
   "execution_count": null,
   "id": "bace1ca7-ba0f-4250-8700-ea1bbb5609a1",
   "metadata": {},
   "outputs": [],
   "source": [
    "from sklearn.metrics import accuracy_score\n",
    "accuracy_score(y,y_pred_V1_bin)"
   ]
  },
  {
   "cell_type": "markdown",
   "id": "a4194730-bd9e-4f9e-843d-781a89e9ee38",
   "metadata": {},
   "source": [
    "### Trying to fit a better model is not the best proposition\n",
    "\n",
    "- The best deep for the trees is only 3\n",
    "- The number of estimators is only 600\n",
    "- The learning rate 0.5\n"
   ]
  },
  {
   "cell_type": "code",
   "execution_count": null,
   "id": "2a4d3b21-f3b0-4f85-a8d2-779e9c3f5ce1",
   "metadata": {},
   "outputs": [],
   "source": [
    "grid_solver.best_estimator_"
   ]
  },
  {
   "cell_type": "markdown",
   "id": "498b5779-2da7-45ee-b125-5b41fb1e8c6b",
   "metadata": {},
   "source": [
    "# apply the best estimator to Test dataframe"
   ]
  },
  {
   "cell_type": "code",
   "execution_count": null,
   "id": "75283258-e6ec-459d-b2de-d3f06326c3fd",
   "metadata": {},
   "outputs": [],
   "source": [
    "Mental_1 = pd.read_csv('Datasheet/MH.Clean.Test.1.csv')"
   ]
  },
  {
   "cell_type": "code",
   "execution_count": null,
   "id": "800ae457-670e-45c6-aa5c-d52e96a38ed7",
   "metadata": {},
   "outputs": [],
   "source": [
    "Mental_1.drop(columns=['id'],axis=1)"
   ]
  },
  {
   "cell_type": "code",
   "execution_count": null,
   "id": "5f1ed2d9-b1fb-46cb-a587-c7a78a0e82ae",
   "metadata": {},
   "outputs": [],
   "source": [
    "modelo_MH = model_result.best_estimator_"
   ]
  },
  {
   "cell_type": "code",
   "execution_count": null,
   "id": "07fc79b6-40af-4fbf-9a8f-98bc38550573",
   "metadata": {},
   "outputs": [],
   "source": [
    "modelo_MH"
   ]
  },
  {
   "cell_type": "code",
   "execution_count": null,
   "id": "1ea01ad8-5372-441a-b0f9-6c71ac40de11",
   "metadata": {},
   "outputs": [],
   "source": [
    "y_pre = modelo_MH.predict(Mental_1.drop(columns=['id'],axis=1))"
   ]
  },
  {
   "cell_type": "code",
   "execution_count": null,
   "id": "b1bdd0ec-f2b5-466c-b9b3-f5407384fbc9",
   "metadata": {},
   "outputs": [],
   "source": [
    "y_pre"
   ]
  },
  {
   "cell_type": "code",
   "execution_count": null,
   "id": "46c1d918-b6ad-433e-9bd9-e7d5dc905b8a",
   "metadata": {},
   "outputs": [],
   "source": [
    "# define a threshold\n",
    "threshold = 0.5\n",
    "y_pre_bin = np.where(y_pre > threshold, 1, 0)"
   ]
  },
  {
   "cell_type": "code",
   "execution_count": null,
   "id": "936f8d0b-38b2-491f-8d78-c166cc4970e3",
   "metadata": {},
   "outputs": [],
   "source": [
    "y_pre_bin"
   ]
  },
  {
   "cell_type": "code",
   "execution_count": null,
   "id": "51bb8c16-edaf-4ed2-9ba8-d9c770dcfe28",
   "metadata": {},
   "outputs": [],
   "source": [
    "Mental_1['Depression']= y_pre_bin"
   ]
  },
  {
   "cell_type": "code",
   "execution_count": null,
   "id": "9288ff68-2995-4cbe-989c-56ea68e7aa8c",
   "metadata": {},
   "outputs": [],
   "source": [
    "Mental_1"
   ]
  },
  {
   "cell_type": "code",
   "execution_count": null,
   "id": "c2196b1f-cd6b-4fa5-be71-9689ee1b3ca8",
   "metadata": {},
   "outputs": [],
   "source": [
    "Mental_1['Depression'].value_counts()"
   ]
  },
  {
   "cell_type": "code",
   "execution_count": null,
   "id": "51a0c31d-9d1e-4e09-bdf2-64016927ad67",
   "metadata": {},
   "outputs": [],
   "source": [
    "print(Mental_1.keys())"
   ]
  },
  {
   "cell_type": "code",
   "execution_count": null,
   "id": "0ca05126-fc1a-4d1b-8312-d052a4b8c459",
   "metadata": {},
   "outputs": [],
   "source": [
    "sample_submission = Mental_1.drop(columns=['Gender', 'Age', 'Have you ever had suicidal thoughts ?',\n",
    "       'Work/Study Hours', 'Financial Stress','Family History of Mental Illness', 'Pressure', 'Satisfaction'],axis=1)"
   ]
  },
  {
   "cell_type": "code",
   "execution_count": null,
   "id": "aa672458-cbda-4705-bbb0-271f26bcdb31",
   "metadata": {},
   "outputs": [],
   "source": [
    "sample_submission"
   ]
  },
  {
   "cell_type": "code",
   "execution_count": null,
   "id": "95ed7cb5-a643-4a4a-b2ff-8fc68f5ce935",
   "metadata": {},
   "outputs": [],
   "source": [
    "sample_submission.to_csv('sample_submission_1.csv', index=False)"
   ]
  },
  {
   "cell_type": "code",
   "execution_count": null,
   "id": "1917dfcb-098b-4d4f-b767-3418c2c97a8f",
   "metadata": {},
   "outputs": [],
   "source": []
  }
 ],
 "metadata": {
  "kernelspec": {
   "display_name": "Python 3 (ipykernel)",
   "language": "python",
   "name": "python3"
  },
  "language_info": {
   "codemirror_mode": {
    "name": "ipython",
    "version": 3
   },
   "file_extension": ".py",
   "mimetype": "text/x-python",
   "name": "python",
   "nbconvert_exporter": "python",
   "pygments_lexer": "ipython3",
   "version": "3.13.1"
  }
 },
 "nbformat": 4,
 "nbformat_minor": 5
}
