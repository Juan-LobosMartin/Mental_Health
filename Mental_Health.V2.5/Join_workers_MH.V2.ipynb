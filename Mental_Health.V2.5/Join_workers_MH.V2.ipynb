{
 "cells": [
  {
   "cell_type": "markdown",
   "id": "efafe0e3-25ba-47f9-ae68-9928ec8f3720",
   "metadata": {},
   "source": [
    "# Join the result for all workers (Test) on only one submission. "
   ]
  },
  {
   "cell_type": "code",
   "execution_count": 1,
   "id": "5bd7991a-93ad-4ae2-a32a-2e3c1910c8c2",
   "metadata": {},
   "outputs": [],
   "source": [
    "import pandas as pd\n",
    "import numpy as np\n",
    "import seaborn as sns\n",
    "import matplotlib.pyplot as plt"
   ]
  },
  {
   "cell_type": "code",
   "execution_count": 2,
   "id": "b96e552a-b646-4e37-a643-393eebc5c178",
   "metadata": {},
   "outputs": [],
   "source": [
    "import glob"
   ]
  },
  {
   "cell_type": "code",
   "execution_count": 3,
   "id": "22b989ec-7deb-4ded-ba0b-cf7c27233a99",
   "metadata": {},
   "outputs": [],
   "source": [
    "file_path = 'Datasheet/submission/'\n",
    "all_files = glob.glob(file_path + \"*.csv\")\n",
    "Submission_2_5_MH= pd.DataFrame(columns=['id', 'Depression'])\n"
   ]
  },
  {
   "cell_type": "code",
   "execution_count": 4,
   "id": "e624ec64-6e28-4ad6-ba15-6e2828918928",
   "metadata": {},
   "outputs": [
    {
     "data": {
      "text/plain": [
       "['Datasheet/submission/Submission.2.5.Students.csv',\n",
       " 'Datasheet/submission/Submission.2.5.Workers.csv']"
      ]
     },
     "execution_count": 4,
     "metadata": {},
     "output_type": "execute_result"
    }
   ],
   "source": [
    "all_files"
   ]
  },
  {
   "cell_type": "code",
   "execution_count": 5,
   "id": "f7884470-5714-4859-a3e8-b5f2cd0af9dd",
   "metadata": {},
   "outputs": [],
   "source": [
    "for filename in all_files:\n",
    "    df = pd.read_csv(filename)\n",
    "    Submission_2_5_MH = pd.concat([Submission_2_5_MH,df], axis = 0).reset_index(drop=True)"
   ]
  },
  {
   "cell_type": "code",
   "execution_count": 7,
   "id": "ea019331-e733-4d92-acaa-fc037c723ab2",
   "metadata": {},
   "outputs": [
    {
     "data": {
      "text/html": [
       "<div>\n",
       "<style scoped>\n",
       "    .dataframe tbody tr th:only-of-type {\n",
       "        vertical-align: middle;\n",
       "    }\n",
       "\n",
       "    .dataframe tbody tr th {\n",
       "        vertical-align: top;\n",
       "    }\n",
       "\n",
       "    .dataframe thead th {\n",
       "        text-align: right;\n",
       "    }\n",
       "</style>\n",
       "<table border=\"1\" class=\"dataframe\">\n",
       "  <thead>\n",
       "    <tr style=\"text-align: right;\">\n",
       "      <th></th>\n",
       "      <th>id</th>\n",
       "      <th>Depression</th>\n",
       "    </tr>\n",
       "  </thead>\n",
       "  <tbody>\n",
       "    <tr>\n",
       "      <th>0</th>\n",
       "      <td>140703</td>\n",
       "      <td>1</td>\n",
       "    </tr>\n",
       "    <tr>\n",
       "      <th>1</th>\n",
       "      <td>140708</td>\n",
       "      <td>0</td>\n",
       "    </tr>\n",
       "    <tr>\n",
       "      <th>2</th>\n",
       "      <td>140719</td>\n",
       "      <td>1</td>\n",
       "    </tr>\n",
       "    <tr>\n",
       "      <th>3</th>\n",
       "      <td>140720</td>\n",
       "      <td>1</td>\n",
       "    </tr>\n",
       "    <tr>\n",
       "      <th>4</th>\n",
       "      <td>140721</td>\n",
       "      <td>1</td>\n",
       "    </tr>\n",
       "    <tr>\n",
       "      <th>...</th>\n",
       "      <td>...</td>\n",
       "      <td>...</td>\n",
       "    </tr>\n",
       "    <tr>\n",
       "      <th>93795</th>\n",
       "      <td>234492</td>\n",
       "      <td>1</td>\n",
       "    </tr>\n",
       "    <tr>\n",
       "      <th>93796</th>\n",
       "      <td>234495</td>\n",
       "      <td>0</td>\n",
       "    </tr>\n",
       "    <tr>\n",
       "      <th>93797</th>\n",
       "      <td>234496</td>\n",
       "      <td>1</td>\n",
       "    </tr>\n",
       "    <tr>\n",
       "      <th>93798</th>\n",
       "      <td>234498</td>\n",
       "      <td>1</td>\n",
       "    </tr>\n",
       "    <tr>\n",
       "      <th>93799</th>\n",
       "      <td>234499</td>\n",
       "      <td>0</td>\n",
       "    </tr>\n",
       "  </tbody>\n",
       "</table>\n",
       "<p>93800 rows × 2 columns</p>\n",
       "</div>"
      ],
      "text/plain": [
       "           id Depression\n",
       "0      140703          1\n",
       "1      140708          0\n",
       "2      140719          1\n",
       "3      140720          1\n",
       "4      140721          1\n",
       "...       ...        ...\n",
       "93795  234492          1\n",
       "93796  234495          0\n",
       "93797  234496          1\n",
       "93798  234498          1\n",
       "93799  234499          0\n",
       "\n",
       "[93800 rows x 2 columns]"
      ]
     },
     "execution_count": 7,
     "metadata": {},
     "output_type": "execute_result"
    }
   ],
   "source": [
    "Submission_2_5_MH"
   ]
  },
  {
   "cell_type": "code",
   "execution_count": 8,
   "id": "3ecebc12-179f-439a-813b-4129effa5e5b",
   "metadata": {},
   "outputs": [],
   "source": [
    "Submission_2_5_MH.to_csv('Datasheet/submission/sample_submission_all_2_5.csv', index=False)"
   ]
  },
  {
   "cell_type": "code",
   "execution_count": null,
   "id": "6eac140a-5499-4f5a-8812-16787ddf1efc",
   "metadata": {},
   "outputs": [],
   "source": [
    "# result = pd.concat([df_pred_pro,df_pred_stu], axis = 0).reset_index(drop=True)\n",
    "# df_results = result.sort_values(by='id', ascending=True).reset_index(drop=True)"
   ]
  }
 ],
 "metadata": {
  "kernelspec": {
   "display_name": "Python 3 (ipykernel)",
   "language": "python",
   "name": "python3"
  },
  "language_info": {
   "codemirror_mode": {
    "name": "ipython",
    "version": 3
   },
   "file_extension": ".py",
   "mimetype": "text/x-python",
   "name": "python",
   "nbconvert_exporter": "python",
   "pygments_lexer": "ipython3",
   "version": "3.13.1"
  }
 },
 "nbformat": 4,
 "nbformat_minor": 5
}
