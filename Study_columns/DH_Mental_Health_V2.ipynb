{
 "cells": [
  {
   "cell_type": "code",
   "execution_count": 1,
   "id": "856486f9-f62f-4f75-945d-eeb2b15cf71c",
   "metadata": {},
   "outputs": [],
   "source": [
    "import pandas as pd\n",
    "import numpy as np\n",
    "import seaborn as sns\n",
    "import matplotlib.pyplot as plt\n",
    "%matplotlib inline"
   ]
  },
  {
   "cell_type": "code",
   "execution_count": 2,
   "id": "3ebce057-d621-4e64-a8df-ad8fed728c2a",
   "metadata": {},
   "outputs": [
    {
     "data": {
      "text/html": [
       "<div>\n",
       "<style scoped>\n",
       "    .dataframe tbody tr th:only-of-type {\n",
       "        vertical-align: middle;\n",
       "    }\n",
       "\n",
       "    .dataframe tbody tr th {\n",
       "        vertical-align: top;\n",
       "    }\n",
       "\n",
       "    .dataframe thead th {\n",
       "        text-align: right;\n",
       "    }\n",
       "</style>\n",
       "<table border=\"1\" class=\"dataframe\">\n",
       "  <thead>\n",
       "    <tr style=\"text-align: right;\">\n",
       "      <th></th>\n",
       "      <th>id</th>\n",
       "      <th>Name</th>\n",
       "      <th>Gender</th>\n",
       "      <th>Age</th>\n",
       "      <th>City</th>\n",
       "      <th>Working Professional or Student</th>\n",
       "      <th>Profession</th>\n",
       "      <th>Academic Pressure</th>\n",
       "      <th>Work Pressure</th>\n",
       "      <th>CGPA</th>\n",
       "      <th>Study Satisfaction</th>\n",
       "      <th>Job Satisfaction</th>\n",
       "      <th>Sleep Duration</th>\n",
       "      <th>Dietary Habits</th>\n",
       "      <th>Degree</th>\n",
       "      <th>Have you ever had suicidal thoughts ?</th>\n",
       "      <th>Work/Study Hours</th>\n",
       "      <th>Financial Stress</th>\n",
       "      <th>Family History of Mental Illness</th>\n",
       "      <th>Depression</th>\n",
       "    </tr>\n",
       "  </thead>\n",
       "  <tbody>\n",
       "    <tr>\n",
       "      <th>0</th>\n",
       "      <td>0</td>\n",
       "      <td>Aaradhya</td>\n",
       "      <td>Female</td>\n",
       "      <td>49.0</td>\n",
       "      <td>Ludhiana</td>\n",
       "      <td>Working Professional</td>\n",
       "      <td>Chef</td>\n",
       "      <td>NaN</td>\n",
       "      <td>5.0</td>\n",
       "      <td>NaN</td>\n",
       "      <td>NaN</td>\n",
       "      <td>2.0</td>\n",
       "      <td>More than 8 hours</td>\n",
       "      <td>Healthy</td>\n",
       "      <td>BHM</td>\n",
       "      <td>No</td>\n",
       "      <td>1.0</td>\n",
       "      <td>2.0</td>\n",
       "      <td>No</td>\n",
       "      <td>0</td>\n",
       "    </tr>\n",
       "    <tr>\n",
       "      <th>1</th>\n",
       "      <td>1</td>\n",
       "      <td>Vivan</td>\n",
       "      <td>Male</td>\n",
       "      <td>26.0</td>\n",
       "      <td>Varanasi</td>\n",
       "      <td>Working Professional</td>\n",
       "      <td>Teacher</td>\n",
       "      <td>NaN</td>\n",
       "      <td>4.0</td>\n",
       "      <td>NaN</td>\n",
       "      <td>NaN</td>\n",
       "      <td>3.0</td>\n",
       "      <td>Less than 5 hours</td>\n",
       "      <td>Unhealthy</td>\n",
       "      <td>LLB</td>\n",
       "      <td>Yes</td>\n",
       "      <td>7.0</td>\n",
       "      <td>3.0</td>\n",
       "      <td>No</td>\n",
       "      <td>1</td>\n",
       "    </tr>\n",
       "    <tr>\n",
       "      <th>2</th>\n",
       "      <td>2</td>\n",
       "      <td>Yuvraj</td>\n",
       "      <td>Male</td>\n",
       "      <td>33.0</td>\n",
       "      <td>Visakhapatnam</td>\n",
       "      <td>Student</td>\n",
       "      <td>NaN</td>\n",
       "      <td>5.0</td>\n",
       "      <td>NaN</td>\n",
       "      <td>8.97</td>\n",
       "      <td>2.0</td>\n",
       "      <td>NaN</td>\n",
       "      <td>5-6 hours</td>\n",
       "      <td>Healthy</td>\n",
       "      <td>B.Pharm</td>\n",
       "      <td>Yes</td>\n",
       "      <td>3.0</td>\n",
       "      <td>1.0</td>\n",
       "      <td>No</td>\n",
       "      <td>1</td>\n",
       "    </tr>\n",
       "  </tbody>\n",
       "</table>\n",
       "</div>"
      ],
      "text/plain": [
       "   id      Name  Gender   Age           City Working Professional or Student  \\\n",
       "0   0  Aaradhya  Female  49.0       Ludhiana            Working Professional   \n",
       "1   1     Vivan    Male  26.0       Varanasi            Working Professional   \n",
       "2   2    Yuvraj    Male  33.0  Visakhapatnam                         Student   \n",
       "\n",
       "  Profession  Academic Pressure  Work Pressure  CGPA  Study Satisfaction  \\\n",
       "0       Chef                NaN            5.0   NaN                 NaN   \n",
       "1    Teacher                NaN            4.0   NaN                 NaN   \n",
       "2        NaN                5.0            NaN  8.97                 2.0   \n",
       "\n",
       "   Job Satisfaction     Sleep Duration Dietary Habits   Degree  \\\n",
       "0               2.0  More than 8 hours        Healthy      BHM   \n",
       "1               3.0  Less than 5 hours      Unhealthy      LLB   \n",
       "2               NaN          5-6 hours        Healthy  B.Pharm   \n",
       "\n",
       "  Have you ever had suicidal thoughts ?  Work/Study Hours  Financial Stress  \\\n",
       "0                                    No               1.0               2.0   \n",
       "1                                   Yes               7.0               3.0   \n",
       "2                                   Yes               3.0               1.0   \n",
       "\n",
       "  Family History of Mental Illness  Depression  \n",
       "0                               No           0  \n",
       "1                               No           1  \n",
       "2                               No           1  "
      ]
     },
     "execution_count": 2,
     "metadata": {},
     "output_type": "execute_result"
    }
   ],
   "source": [
    "Mental_Health = pd.read_csv('Datasheet/Mental_Health_train.csv')\n",
    "Mental_Health.head(3)"
   ]
  },
  {
   "cell_type": "code",
   "execution_count": 3,
   "id": "1df0a8b9-26e7-4538-8d79-1de5ea41eba0",
   "metadata": {},
   "outputs": [],
   "source": [
    "    def Comida(value):\n",
    "        if value in ['Healthy', \"More Healthy\"]:\n",
    "            return 2\n",
    "        elif value in ['Unhealthy']:\n",
    "            return 0\n",
    "        elif value in ['Moderate']:\n",
    "            return 1\n",
    "        else:\n",
    "            return np.nan\n",
    "    # Modules"
   ]
  },
  {
   "cell_type": "code",
   "execution_count": 4,
   "id": "39043e78-e929-42e0-816f-b67d9eadd673",
   "metadata": {},
   "outputs": [],
   "source": [
    "Mental_Health['Dietary Habits'] = Mental_Health['Dietary Habits'].apply(Comida)"
   ]
  },
  {
   "cell_type": "code",
   "execution_count": 5,
   "id": "010d7951-e8ed-4daf-bedf-669994cfcee0",
   "metadata": {},
   "outputs": [],
   "source": [
    "Mental_Health['Dietary Habits']=Mental_Health['Dietary Habits'].fillna(0)"
   ]
  },
  {
   "cell_type": "code",
   "execution_count": 6,
   "id": "9bc1903e-6263-467e-a348-ef1a95dea832",
   "metadata": {},
   "outputs": [
    {
     "data": {
      "text/plain": [
       "Dietary Habits\n",
       "1.0    49705\n",
       "0.0    46252\n",
       "2.0    44743\n",
       "Name: count, dtype: int64"
      ]
     },
     "execution_count": 6,
     "metadata": {},
     "output_type": "execute_result"
    }
   ],
   "source": [
    "Mental_Health['Dietary Habits'].value_counts()"
   ]
  },
  {
   "cell_type": "code",
   "execution_count": 7,
   "id": "8d6bb7e8-f350-47b3-b800-1f7e827cc1e6",
   "metadata": {},
   "outputs": [],
   "source": [
    "Mental_Health['Depression'] = Mental_Health['Depression'].astype(bool)"
   ]
  },
  {
   "cell_type": "code",
   "execution_count": 8,
   "id": "cf1bf0d8-ce7e-4bab-aa51-338decf8a2db",
   "metadata": {},
   "outputs": [],
   "source": [
    "depression_percentage = Mental_Health.groupby('Dietary Habits')['Depression'].mean() * 100"
   ]
  },
  {
   "cell_type": "code",
   "execution_count": 9,
   "id": "241cd67e-4634-4403-acb1-e55a9b281124",
   "metadata": {},
   "outputs": [
    {
     "data": {
      "image/png": "[encoded data removed]",
      "text/plain": [
       "<Figure size 800x600 with 1 Axes>"
      ]
     },
     "metadata": {},
     "output_type": "display_data"
    }
   ],
   "source": [
    "plt.figure(figsize=(8, 6))  # Adjust figure size as needed\n",
    "sns.barplot(x=depression_percentage.index, y=depression_percentage.values)\n",
    "\n",
    "plt.xlabel(\"Dietary Habits (0-2)\")\n",
    "plt.ylabel(\"Percentage of Depression\")\n",
    "plt.title(\"Depression Percentage by Dietary Habits\")\n",
    "plt.xticks(range(3))  # Ensure x-axis ticks are at 0, 1, and 2\n",
    "plt.ylim(0, 50) # Ensure y-axis is from 0 to 100 for percentage\n",
    "plt.tight_layout()\n",
    "plt.savefig('fig/fig_Diet_1.png')\n",
    "plt.show()"
   ]
  },
  {
   "cell_type": "code",
   "execution_count": 10,
   "id": "a3783a2d-8e1b-43a0-8d83-ecdd1835b94d",
   "metadata": {},
   "outputs": [],
   "source": [
    "def horas_cat(value):\n",
    "    if value in [\"Less than 5 hours\", \"3-4 hours\", \"1-2 hours\", \"2-3 hours\",\"4-5 hours\"]:\n",
    "        return 4.5\n",
    "    elif value in [\"5-6 hours\"]:\n",
    "        return 5.5\n",
    "    elif value in [\"6-7 hours\", \"6-8 hours\"]:\n",
    "        return 6.5\n",
    "    elif value in [\"7-8 hours\"]:\n",
    "        return 7.5\n",
    "    elif value in [ \"More than 8 hours\"]:\n",
    "        return 8.5\n",
    "    elif value in [ \"8-9 hours\", \"9-10 hours\", \"9-11 hours\", \"10-11 hours\"]:\n",
    "        return 10\n",
    "    elif value in [ \"50-75 hours\", \"55-66 hours\", \"60-65 hours\", \"20-21 hours\", \"35-36 hours\",\"40-45 hours\",\n",
    "                   \"45-48 hours\"]:\n",
    "        return 12 \n",
    "    else:\n",
    "        return np.nan"
   ]
  },
  {
   "cell_type": "code",
   "execution_count": 11,
   "id": "2132dcdd-5884-4f5b-a36c-6b19dfd14fee",
   "metadata": {},
   "outputs": [],
   "source": [
    "Mental_Health['Sleep Duration'] = Mental_Health['Sleep Duration'].apply(horas_cat)"
   ]
  },
  {
   "cell_type": "code",
   "execution_count": 12,
   "id": "09e596a4-42e5-4669-89c7-6378e63c5201",
   "metadata": {},
   "outputs": [],
   "source": [
    "Mental_Health['Sleep Duration']=Mental_Health['Sleep Duration'].fillna(6.5)"
   ]
  },
  {
   "cell_type": "code",
   "execution_count": 13,
   "id": "fcc4e443-7b94-4295-b0f4-534694f45e9b",
   "metadata": {},
   "outputs": [
    {
     "data": {
      "text/plain": [
       "Sleep Duration\n",
       "4.5     38809\n",
       "7.5     36969\n",
       "8.5     32726\n",
       "5.5     32142\n",
       "6.5        44\n",
       "10.0        6\n",
       "12.0        4\n",
       "Name: count, dtype: int64"
      ]
     },
     "execution_count": 13,
     "metadata": {},
     "output_type": "execute_result"
    }
   ],
   "source": [
    "Mental_Health['Sleep Duration'].value_counts()"
   ]
  },
  {
   "cell_type": "code",
   "execution_count": 14,
   "id": "ded07e9e-f6a6-431a-9747-39c9a5959f82",
   "metadata": {},
   "outputs": [],
   "source": [
    "dep_sllep_percentage = Mental_Health.groupby('Sleep Duration')['Depression'].mean() * 100"
   ]
  },
  {
   "cell_type": "code",
   "execution_count": 19,
   "id": "4363e602-ad25-4e58-9fe1-fdfc983818f0",
   "metadata": {},
   "outputs": [
    {
     "data": {
      "image/png": "[encoded data removed]",
      "text/plain": [
       "<Figure size 800x600 with 1 Axes>"
      ]
     },
     "metadata": {},
     "output_type": "display_data"
    }
   ],
   "source": [
    "plt.figure(figsize=(8, 6))  # Adjust figure size as needed\n",
    "sns.barplot(x=dep_sllep_percentage.index, y=dep_sllep_percentage.values)\n",
    "\n",
    "plt.xlabel(\"sleep duration (h)\")\n",
    "plt.ylabel(\"Percentage of Depression\")\n",
    "plt.title(\"Depression Percentage by sleep duration\")\n",
    "plt.ylim(0, 60) # Ensure y-axis is from 0 to 100 for percentage\n",
    "plt.tight_layout()\n",
    "plt.savefig('fig/fig_sllep_1.png')\n",
    "plt.show()"
   ]
  },
  {
   "cell_type": "code",
   "execution_count": null,
   "id": "d5b67c7a-e9a6-4288-82b9-f75ddd286bae",
   "metadata": {},
   "outputs": [],
   "source": []
  }
 ],
 "metadata": {
  "kernelspec": {
   "display_name": "Python 3 (ipykernel)",
   "language": "python",
   "name": "python3"
  },
  "language_info": {
   "codemirror_mode": {
    "name": "ipython",
    "version": 3
   },
   "file_extension": ".py",
   "mimetype": "text/x-python",
   "name": "python",
   "nbconvert_exporter": "python",
   "pygments_lexer": "ipython3",
   "version": "3.13.1"
  }
 },
 "nbformat": 4,
 "nbformat_minor": 5
}
